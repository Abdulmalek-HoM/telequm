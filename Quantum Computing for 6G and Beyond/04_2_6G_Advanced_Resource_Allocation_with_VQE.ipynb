{
 "cells": [
  {
   "cell_type": "markdown",
   "metadata": {},
   "source": [
    "# **Notebook 4.2: Advanced Resource Allocation with VQE (Stable Version)**\n",
    "\n",
    "**Objective:** This notebook demonstrates how to solve a complex resource allocation problem using the **Variational Quantum Eigensolver (VQE)**. This version uses a stable configuration of Qiskit packages to ensure compatibility and avoid versioning conflicts. 📡"
   ]
  },
  {
   "cell_type": "markdown",
   "metadata": {},
   "source": [
    "### **1. The Telecom Problem: Constrained Multi-Resource Allocation**\n",
    "\n",
    "We have a scenario with multiple users and resources (e.g., Frequency Bands A, B, C). Each user must be assigned **exactly one** resource. There are costs for each assignment and penalties for interference if certain users share the same resource. Our goal is to find the assignment that minimizes the total cost."
   ]
  },
  {
   "cell_type": "markdown",
   "metadata": {},
   "source": [
    "### **2. The Scaling Challenge and the NISQ Era**\n",
    "\n",
    "Real-world telecom problems can involve thousands of variables (qubits), far beyond the capacity of today's **NISQ (Noisy Intermediate-Scale Quantum)** computers. The purpose of this notebook is to learn the **method** on a problem that is computationally intensive for a classical simulator (`8 users * 3 resources = 24 qubits`), demonstrating the path towards solving problems that are intractable for classical machines."
   ]
  },
  {
   "cell_type": "markdown",
   "metadata": {},
   "source": [
    "---"
   ]
  },
  {
   "cell_type": "markdown",
   "metadata": {},
   "source": [
    "### **3. Setup: Importing Libraries (Stable Configuration)**"
   ]
  },
  {
   "metadata": {
    "ExecuteTime": {
     "end_time": "2025-08-16T01:37:03.880313Z",
     "start_time": "2025-08-16T01:37:02.711135Z"
    }
   },
   "cell_type": "code",
   "source": [
    "# Core Python libraries\n",
    "import numpy as np\n",
    "import qiskit\n",
    "\n",
    "# Qiskit imports - STABLE CONFIGURATION\n",
    "# Use the V1 Estimator from qiskit_aer for compatibility\n",
    "from qiskit_aer.primitives import Sampler as AerSampler\n",
    "from qiskit.circuit.library import EfficientSU2\n",
    "from qiskit.quantum_info import SparsePauliOp\n",
    "\n",
    "# IMPORT SamplingVQE INSTEAD OF VQE\n",
    "from qiskit_algorithms.minimum_eigensolvers import SamplingVQE\n",
    "from qiskit_algorithms.optimizers import SPSA\n",
    "\n",
    "from qiskit_optimization.algorithms import MinimumEigenOptimizer\n",
    "from qiskit_optimization import QuadraticProgram\n",
    "from qiskit_optimization.converters import QuadraticProgramToQubo\n",
    "\n",
    "\n",
    "# Set a seed for reproducibility\n",
    "np.random.seed(42)\n",
    "\n",
    "print(f\"Running on Qiskit version: {qiskit.__version__}\")"
   ],
   "outputs": [
    {
     "name": "stdout",
     "output_type": "stream",
     "text": [
      "Running on Qiskit version: 1.4.4\n"
     ]
    }
   ],
   "execution_count": 1
  },
  {
   "cell_type": "markdown",
   "metadata": {},
   "source": [
    "---"
   ]
  },
  {
   "cell_type": "markdown",
   "metadata": {},
   "source": [
    "### **4. Formulate the Scaled-Up Problem**\n",
    "\n",
    "We create a problem with **8 users and 3 resources**, requiring `8 * 3 = 24` qubits."
   ]
  },
  {
   "metadata": {
    "ExecuteTime": {
     "end_time": "2025-08-16T01:50:32.502884Z",
     "start_time": "2025-08-16T01:50:32.482685Z"
    }
   },
   "cell_type": "code",
   "source": [
    "# Problem parameters - SCALED UP\n",
    "num_users = 8\n",
    "num_resources = 3\n",
    "\n",
    "# For a larger problem, we generate costs and penalties randomly\n",
    "np.random.seed(42)\n",
    "assignment_costs = np.random.randint(1, 5, size=(num_users, num_resources))\n",
    "interference_penalty = 10  # Increased penalty for a more complex problem\n",
    "\n",
    "# --- Create the Quadratic Program ---\n",
    "qp = QuadraticProgram(name=\"Scaled-Resource-Allocation\")\n",
    "\n",
    "# 1. Define variables (we will now have 24)\n",
    "for i in range(num_users):\n",
    "    for j in range(num_resources):\n",
    "        qp.binary_var(name=f'x_{i}_{j}')\n",
    "\n",
    "# 2. Define the objective function to minimize\n",
    "objective = {}\n",
    "for i in range(num_users):\n",
    "    for j in range(num_resources):\n",
    "        objective[(i * num_resources + j,)] = assignment_costs[i, j]\n",
    "for j in range(num_resources):\n",
    "    for i1 in range(num_users):\n",
    "        for i2 in range(i1 + 1, num_users):\n",
    "            var1_idx = i1 * num_resources + j\n",
    "            var2_idx = i2 * num_resources + j\n",
    "            objective[(var1_idx, var2_idx)] = interference_penalty\n",
    "qp.minimize(linear=objective.get('linear', {}), quadratic=objective.get('quadratic', {}))\n",
    "\n",
    "# 3. Add constraints: each user gets exactly one resource\n",
    "for i in range(num_users):\n",
    "    constraint_vars = {f'x_{i}_{j}': 1 for j in range(num_resources)}\n",
    "    qp.linear_constraint(linear=constraint_vars, sense='==', rhs=1, name=f'user_{i}_constraint')\n",
    "\n",
    "print(\"Quadratic Program for Scaled Problem Created.\")\n",
    "print(f\"Number of variables: {qp.get_num_vars()}\")"
   ],
   "outputs": [
    {
     "name": "stdout",
     "output_type": "stream",
     "text": [
      "Quadratic Program for Scaled Problem Created.\n",
      "Number of variables: 24\n"
     ]
    }
   ],
   "execution_count": 12
  },
  {
   "cell_type": "markdown",
   "metadata": {},
   "source": [
    "---"
   ]
  },
  {
   "cell_type": "markdown",
   "metadata": {},
   "source": [
    "### **5. Convert to QUBO and Pauli Operator**\n",
    "\n",
    "VQE works by finding the minimum eigenvalue of a Hamiltonian (a Pauli operator). We first convert our problem to a QUBO and then map that QUBO to a `SparsePauliOp`, which is the required input format for the VQE algorithm."
   ]
  },
  {
   "metadata": {
    "ExecuteTime": {
     "end_time": "2025-08-16T01:51:24.839445Z",
     "start_time": "2025-08-16T01:51:24.820130Z"
    }
   },
   "cell_type": "code",
   "source": [
    "# The penalty factor must be larger than the maximum possible real cost.\n",
    "penalty_factor = 50\n",
    "\n",
    "# Create the converter with the penalty factor\n",
    "converter = QuadraticProgramToQubo(penalty=penalty_factor)\n",
    "qubo = converter.convert(qp)\n",
    "\n",
    "# This is the line that creates the hamiltonian and offset\n",
    "hamiltonian, offset = qubo.to_ising()\n",
    "\n",
    "print(f\"QUBO converted to a SparsePauliOp with {hamiltonian.num_qubits} qubits.\")"
   ],
   "outputs": [
    {
     "name": "stdout",
     "output_type": "stream",
     "text": [
      "QUBO created with 24 variables and a penalty factor of 50.\n"
     ]
    }
   ],
   "execution_count": 14
  },
  {
   "cell_type": "markdown",
   "metadata": {},
   "source": [
    "---"
   ]
  },
  {
   "cell_type": "markdown",
   "metadata": {},
   "source": [
    "### **6. Configure the VQE Solver (Stable Interface)**\n",
    "\n",
    "To resolve the compatibility issues, we will use the **V1 Estimator** from `qiskit_aer`. The `VQE` class in `qiskit_algorithms` is designed to work with the V1 primitive interface, making this the most reliable configuration."
   ]
  },
  {
   "metadata": {
    "ExecuteTime": {
     "end_time": "2025-08-16T01:55:54.733134Z",
     "start_time": "2025-08-16T01:55:54.726058Z"
    }
   },
   "cell_type": "code",
   "source": [
    "# 1. Define the Ansatz\n",
    "ansatz = EfficientSU2(num_qubits=hamiltonian.num_qubits, reps=2)\n",
    "\n",
    "# 2. Define the Classical Optimizer\n",
    "optimizer = SPSA(maxiter=100)\n",
    "\n",
    "# 3. Choose the Quantum Backend Primitive (V1 Sampler for compatibility)\n",
    "sampler = AerSampler()\n",
    "\n",
    "# 4. Instantiate the SamplingVQE algorithm\n",
    "# This is the drop-in replacement for VQE that works with MinimumEigenOptimizer\n",
    "vqe_solver = SamplingVQE(sampler=sampler, ansatz=ansatz, optimizer=optimizer)\n",
    "\n",
    "# 5. Create the high-level MinimumEigenOptimizer\n",
    "vqe_optimizer = MinimumEigenOptimizer(min_eigen_solver=vqe_solver)\n",
    "print(\"Solver configured successfully with SamplingVQE for stability.\")"
   ],
   "outputs": [
    {
     "name": "stdout",
     "output_type": "stream",
     "text": [
      "Solver configured successfully with SamplingVQE for stability.\n"
     ]
    }
   ],
   "execution_count": 20
  },
  {
   "cell_type": "markdown",
   "metadata": {},
   "source": [
    "---"
   ]
  },
  {
   "cell_type": "markdown",
   "metadata": {},
   "source": [
    "### **7. Solve the Problem with VQE**\n",
    "\n",
    "**Note:** This step will take significantly longer than a 3-user example due to the larger problem size."
   ]
  },
  {
   "cell_type": "code",
   "metadata": {
    "ExecuteTime": {
     "end_time": "2025-08-16T02:01:17.188542Z",
     "start_time": "2025-08-16T01:55:57.715593Z"
    }
   },
   "source": [
    "# The optimizer solves the original quadratic program\n",
    "result = vqe_optimizer.solve(qp)\n",
    "\n",
    "print(\"Result from VQE:\")\n",
    "print(f\"Optimal solution: {result.x}\")\n",
    "print(f\"Optimal value (total cost): {result.fval}\")\n",
    "print(f\"Solution status: {result.status.name}\")"
   ],
   "outputs": [
    {
     "name": "stdout",
     "output_type": "stream",
     "text": [
      "Result from VQE:\n",
      "Optimal solution: [1. 0. 0. 0. 0. 1. 1. 0. 0. 0. 0. 1. 0. 0. 1. 0. 0. 1. 1. 0. 0. 1. 0. 0.]\n",
      "Optimal value (total cost): 0.0\n",
      "Solution status: SUCCESS\n"
     ]
    }
   ],
   "execution_count": 21
  },
  {
   "cell_type": "markdown",
   "metadata": {},
   "source": [
    "---"
   ]
  },
  {
   "cell_type": "markdown",
   "metadata": {},
   "source": [
    "### **8. Interpret and Visualize the Solution**\n",
    "\n",
    "The solution is a binary string of length 24 (`num_users` * `num_resources`). We decode this back into a human-readable assignment."
   ]
  },
  {
   "metadata": {
    "ExecuteTime": {
     "end_time": "2025-08-16T01:44:20.470955Z",
     "start_time": "2025-08-16T01:44:20.462587Z"
    }
   },
   "cell_type": "code",
   "source": [
    "def decode_solution(result):\n",
    "    assignments = {}\n",
    "    for i in range(num_users):\n",
    "        for j in range(num_resources):\n",
    "            if result.x[i * num_resources + j] == 1:\n",
    "                assignments[f'User_{i}'] = f'Resource_{j}'\n",
    "    return assignments\n",
    "\n",
    "optimal_assignments = decode_solution(result)\n",
    "\n",
    "print(\"--- Optimal Resource Allocation ---\")\n",
    "for user, resource in optimal_assignments.items():\n",
    "    print(f\"{user}  ->  {resource}\")\n",
    "print(f\"\\nTotal Minimized Cost: {result.fval}\")"
   ],
   "outputs": [
    {
     "name": "stdout",
     "output_type": "stream",
     "text": [
      "--- Optimal Resource Allocation ---\n",
      "User_0  ->  Resource_2\n",
      "User_1  ->  Resource_2\n",
      "User_2  ->  Resource_2\n",
      "User_3  ->  Resource_2\n",
      "User_4  ->  Resource_0\n",
      "User_5  ->  Resource_0\n",
      "User_6  ->  Resource_1\n",
      "User_7  ->  Resource_0\n",
      "\n",
      "Total Minimized Cost: 0.0\n"
     ]
    }
   ],
   "execution_count": 7
  },
  {
   "metadata": {
    "ExecuteTime": {
     "end_time": "2025-08-16T01:46:38.488811Z",
     "start_time": "2025-08-16T01:46:38.389Z"
    }
   },
   "cell_type": "code",
   "source": [
    "import matplotlib.pyplot as plt\n",
    "\n",
    "# This is a new cell for visualization. Run it after getting the results.\n",
    "\n",
    "# --- Prepare Data for Plotting ---\n",
    "users = list(optimal_assignments.keys())\n",
    "assigned_resources_str = list(optimal_assignments.values())\n",
    "\n",
    "# Extract the numerical resource index (e.g., 'Resource_1' -> 1)\n",
    "assigned_resources_idx = [int(r.split('_')[1]) for r in assigned_resources_str]\n",
    "\n",
    "# Get the cost for each user's final assignment\n",
    "final_costs = []\n",
    "for i, user in enumerate(users):\n",
    "    user_idx = int(user.split('_')[1])\n",
    "    resource_idx = assigned_resources_idx[i]\n",
    "    final_costs.append(assignment_costs[user_idx, resource_idx])\n",
    "\n",
    "# --- Create the Bar Chart ---\n",
    "fig, ax = plt.subplots(figsize=(12, 7))\n",
    "\n",
    "# Define colors for the 3 resources\n",
    "resource_colors = ['#3498db', '#e74c3c', '#2ecc71'] # Blue, Red, Green\n",
    "bar_colors = [resource_colors[idx] for idx in assigned_resources_idx]\n",
    "\n",
    "# Create the bars\n",
    "bars = ax.bar(users, final_costs, color=bar_colors)\n",
    "\n",
    "# Add labels and title\n",
    "ax.set_ylabel('Assignment Cost', fontsize=12)\n",
    "ax.set_xlabel('Users', fontsize=12)\n",
    "ax.set_title('Optimal Resource Allocation Found by VQE', fontsize=16)\n",
    "ax.set_xticklabels(users, rotation=45, ha=\"right\")\n",
    "ax.grid(axis='y', linestyle='--', alpha=0.7)\n",
    "\n",
    "# Add cost values on top of each bar\n",
    "for bar in bars:\n",
    "    yval = bar.get_height()\n",
    "    ax.text(bar.get_x() + bar.get_width()/2.0, yval + 0.05, f'{yval}', ha='center', va='bottom')\n",
    "\n",
    "# Create a custom legend\n",
    "from matplotlib.patches import Patch\n",
    "legend_elements = [Patch(facecolor=resource_colors[i], edgecolor='black', label=f'Resource {i}') for i in range(num_resources)]\n",
    "ax.legend(handles=legend_elements, bbox_to_anchor=(1.05, 1), loc='upper left')\n",
    "\n",
    "plt.tight_layout()\n",
    "plt.show()"
   ],
   "outputs": [
    {
     "name": "stderr",
     "output_type": "stream",
     "text": [
      "/var/folders/ys/y0scvyd9775b2m623518p1940000gn/T/ipykernel_33755/1479711395.py:33: UserWarning: set_ticklabels() should only be used with a fixed number of ticks, i.e. after set_ticks() or using a FixedLocator.\n",
      "  ax.set_xticklabels(users, rotation=45, ha=\"right\")\n"
     ]
    },
    {
     "data": {
      "text/plain": [
       "<Figure size 1200x700 with 1 Axes>"
      ],
      "image/png": "[encoded data removed]"
     },
     "metadata": {},
     "output_type": "display_data"
    }
   ],
   "execution_count": 11
  },
  {
   "cell_type": "markdown",
   "metadata": {},
   "source": [
    "### **9. Conclusion and Telecom Impact**\n",
    "\n",
    "In this notebook, we successfully scaled our problem to 24 variables and solved it with VQE. This provides a tangible demonstration of the computational effort required for non-trivial quantum simulations and highlights the path toward solving problems that are intractable for classical machines.\n",
    "\n",
    "This technique is directly applicable to many real-world 6G problems like **Network Slicing**, **Dynamic Spectrum Access**, and **Cloud-RAN Resource Management**. VQE's ability to handle complex cost functions makes it a crucial tool for the highly dynamic and optimized 6G networks of the future."
   ]
  }
 ],
 "metadata": {
  "kernelspec": {
   "display_name": "Python 3",
   "language": "python",
   "name": "python3"
  },
  "language_info": {
   "codemirror_mode": {
    "name": "ipython",
    "version": 3
   },
   "file_extension": ".py",
   "mimetype": "text/x-python",
   "name": "python",
   "nbconvert_exporter": "python",
   "pygments_lexer": "ipython3",
   "version": "3.12.4"
  }
 },
 "nbformat": 4,
 "nbformat_minor": 2
}
