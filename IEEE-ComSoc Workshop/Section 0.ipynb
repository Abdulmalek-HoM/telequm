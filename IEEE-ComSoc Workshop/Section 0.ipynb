{
 "nbformat": 4,
 "nbformat_minor": 4,
 "metadata": {
  "kernelspec": {
   "display_name": "Python 3",
   "language": "python",
   "name": "python3"
  },
  "language_info": {
   "codemirror_mode": {
    "name": "ipython",
    "version": 3
   },
   "file_extension": ".py",
   "mimetype": "text/x-python",
   "name": "python",
   "nbconvert_exporter": "python",
   "pygments_lexer": "ipython3",
   "version": "3.8.10"
  }
 },
 "cells": [
  {
   "cell_type": "markdown",
   "metadata": {},
   "source": [
    "# Section 0: Getting Started & Warm-Up\n",
    "\n",
    "**Objective:** This section ensures we're all ready for hands-on work with Qiskit and provides a quick recap of fundamental concepts.\n",
    "\n",
    "---\n",
    "\n",
    "### Key Concepts:\n",
    "\n",
    "* **Qiskit & IBM Quantum Platform:** A brief introduction to Qiskit as an open-source SDK for working with quantum computers, and how it connects to simulators and real quantum hardware provided by IBM. We'll primarily use a simulator today.\n",
    "* **Quantum State Representation:** A quick reminder that unlike classical bits (0 or 1), quantum bits (qubits) can exist as 0, 1, or a **superposition** of both.\n",
    "\n",
    "---\n",
    "\n",
    "### Setting up Qiskit in Google Colab:\n",
    "\n",
    "If you are running this notebook in Google Colab, you'll need to install Qiskit. Execute the cell below! If you're running locally and already have Qiskit installed, you can skip this."
   ]
  },
  {
   "cell_type": "code",
   "metadata": {},
   "source": [
    "!pip install qiskit qiskit-aer pylatexenc\n",
    "print(\"Qiskit, Qiskit-Aer, and pylatexenc installation command executed. Please wait for it to complete.\")"
   ],
   "outputs": [],
   "execution_count": null
  },
  {
   "cell_type": "markdown",
   "metadata": {},
   "source": [
    "---\n",
    "\n",
    "### Basic Qiskit Imports:\n",
    "\n",
    "First, let's import the necessary components from Qiskit. We'll need `QuantumCircuit` to build our circuits and `AerSimulator` for our local quantum simulator."
   ]
  },
  {
   "metadata": {},
   "cell_type": "code",
   "source": [
    "# In the code cell with imports:\n",
    "%matplotlib inline\n",
    "# Import necessary Qiskit components\n",
    "from qiskit import QuantumCircuit\n",
    "from qiskit_aer import AerSimulator\n",
    "from qiskit.visualization import plot_histogram\n",
    "import matplotlib.pyplot as plt"
   ],
   "outputs": [],
   "execution_count": null
  },
  {
   "cell_type": "markdown",
   "metadata": {},
   "source": [
    "---\n",
    "\n",
    "### Warm-Up Circuit: Testing Your Setup\n",
    "\n",
    "Let's create and run a very simple 1-qubit circuit. We'll put a qubit into a superposition state using a Hadamard gate and then measure it. This confirms your Qiskit environment is working correctly."
   ]
  },
  {
   "metadata": {},
   "cell_type": "code",
   "source": [
    "# Create a Quantum Circuit with 1 qubit and 1 classical bit\n",
    "qc_warmup = QuantumCircuit(1, 1)\n",
    "\n",
    "# Apply a Hadamard gate to put the qubit in superposition\n",
    "# A Hadamard gate (H) puts a qubit in an equal superposition of 0 and 1\n",
    "qc_warmup.h(0) \n",
    "\n",
    "# Measure the qubit and store the result in the classical bit\n",
    "qc_warmup.measure(0, 0)\n",
    "\n",
    "# Draw the circuit using Matplotlib output\n",
    "print(\"Warm-Up Circuit Diagram (Graphical):\")\n",
    "qc_warmup.draw(output=\"mpl\")\n",
    "plt.show() # Display the plot\n",
    "\n",
    "# Select the Aer simulator backend\n",
    "simulator = AerSimulator() # Instantiate the simulator\n",
    "\n",
    "# Execute the circuit on the simulator using backend.run() method\n",
    "job = simulator.run(qc_warmup, shots=1024) # shots = number of times to run the circuit\n",
    "result = job.result()\n",
    "\n",
    "# Get the measurement counts\n",
    "counts = result.get_counts(qc_warmup)\n",
    "\n",
    "print(\"\\nMeasurement Counts (should be roughly 50/50 for 0 and 1):\")\n",
    "print(counts)\n",
    "\n",
    "# Plot the results\n",
    "plot_histogram(counts).set_size_inches(6, 4)\n",
    "plt.title(\"Warm-Up Circuit Results\")\n",
    "plt.show()\n",
    "\n",
    "print(\"\\nIf you see results for both '0' and '1' (roughly 50/50), and a circuit diagram, your setup is working!\")"
   ],
   "outputs": [],
   "execution_count": null
  },
  {
   "metadata": {},
   "cell_type": "code",
   "source": "",
   "outputs": [],
   "execution_count": null
  }
 ]
}
